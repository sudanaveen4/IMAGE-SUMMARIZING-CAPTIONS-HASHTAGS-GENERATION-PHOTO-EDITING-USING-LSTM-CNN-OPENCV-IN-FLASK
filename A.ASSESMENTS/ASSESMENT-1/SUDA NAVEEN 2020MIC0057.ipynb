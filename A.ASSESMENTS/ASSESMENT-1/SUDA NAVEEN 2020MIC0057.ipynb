{
 "cells": [
  {
   "attachments": {},
   "cell_type": "markdown",
   "metadata": {},
   "source": [
    "SUDA NAVEEN - 20MIC0057\n",
    "suda.naveen2020@vitstudent.ac.in"
   ]
  },
  {
   "attachments": {},
   "cell_type": "markdown",
   "metadata": {},
   "source": [
    "Git Hub Folder link: https://github.com/sudanaveen4/SmartBridge---VIT-EXTERNSHIP-Artificial-Intelligence-.git"
   ]
  },
  {
   "attachments": {},
   "cell_type": "markdown",
   "metadata": {},
   "source": [
    "ASSESMENT:-1"
   ]
  },
  {
   "cell_type": "code",
   "execution_count": 16,
   "metadata": {},
   "outputs": [],
   "source": [
    "import pandas as pd\n",
    "import numpy as np"
   ]
  },
  {
   "cell_type": "code",
   "execution_count": 17,
   "metadata": {},
   "outputs": [
    {
     "name": "stdout",
     "output_type": "stream",
     "text": [
      "[[0.54671028 0.18485446 0.96958463 0.77513282]\n",
      " [0.93949894 0.89482735 0.59789998 0.92187424]\n",
      " [0.0884925  0.19598286 0.04522729 0.32533033]\n",
      " [0.38867729 0.27134903 0.82873751 0.35675333]]\n",
      "   Feature 1  Feature 2  Feature 3  Feature 4\n",
      "0   0.546710   0.184854   0.969585   0.775133\n",
      "1   0.939499   0.894827   0.597900   0.921874\n",
      "2   0.088493   0.195983   0.045227   0.325330\n",
      "3   0.388677   0.271349   0.828738   0.356753\n"
     ]
    }
   ],
   "source": [
    "# Task 1: Create a pandas dataframe with numpy random values\n",
    "data = np.random.rand(4, 4)\n",
    "print(data)\n",
    "df = pd.DataFrame(data, columns=['Feature 1', 'Feature 2', 'Feature 3', 'Feature 4'])\n",
    "print(df)"
   ]
  },
  {
   "cell_type": "code",
   "execution_count": 18,
   "metadata": {},
   "outputs": [
    {
     "data": {
      "text/html": [
       "<div>\n",
       "<style scoped>\n",
       "    .dataframe tbody tr th:only-of-type {\n",
       "        vertical-align: middle;\n",
       "    }\n",
       "\n",
       "    .dataframe tbody tr th {\n",
       "        vertical-align: top;\n",
       "    }\n",
       "\n",
       "    .dataframe thead th {\n",
       "        text-align: right;\n",
       "    }\n",
       "</style>\n",
       "<table border=\"1\" class=\"dataframe\">\n",
       "  <thead>\n",
       "    <tr style=\"text-align: right;\">\n",
       "      <th></th>\n",
       "      <th>Random value 1</th>\n",
       "      <th>Random value 2</th>\n",
       "      <th>Random value 3</th>\n",
       "      <th>Random value 4</th>\n",
       "    </tr>\n",
       "  </thead>\n",
       "  <tbody>\n",
       "    <tr>\n",
       "      <th>0</th>\n",
       "      <td>0.546710</td>\n",
       "      <td>0.184854</td>\n",
       "      <td>0.969585</td>\n",
       "      <td>0.775133</td>\n",
       "    </tr>\n",
       "    <tr>\n",
       "      <th>1</th>\n",
       "      <td>0.939499</td>\n",
       "      <td>0.894827</td>\n",
       "      <td>0.597900</td>\n",
       "      <td>0.921874</td>\n",
       "    </tr>\n",
       "    <tr>\n",
       "      <th>2</th>\n",
       "      <td>0.088493</td>\n",
       "      <td>0.195983</td>\n",
       "      <td>0.045227</td>\n",
       "      <td>0.325330</td>\n",
       "    </tr>\n",
       "    <tr>\n",
       "      <th>3</th>\n",
       "      <td>0.388677</td>\n",
       "      <td>0.271349</td>\n",
       "      <td>0.828738</td>\n",
       "      <td>0.356753</td>\n",
       "    </tr>\n",
       "  </tbody>\n",
       "</table>\n",
       "</div>"
      ],
      "text/plain": [
       "   Random value 1  Random value 2  Random value 3  Random value 4\n",
       "0        0.546710        0.184854        0.969585        0.775133\n",
       "1        0.939499        0.894827        0.597900        0.921874\n",
       "2        0.088493        0.195983        0.045227        0.325330\n",
       "3        0.388677        0.271349        0.828738        0.356753"
      ]
     },
     "execution_count": 18,
     "metadata": {},
     "output_type": "execute_result"
    }
   ],
   "source": [
    "# Task 2: Rename the column names\n",
    "# Rename the column names\n",
    "df.columns = ['Random value 1', 'Random value 2', 'Random value 3', 'Random value 4']\n",
    "df"
   ]
  },
  {
   "cell_type": "code",
   "execution_count": 19,
   "metadata": {},
   "outputs": [
    {
     "name": "stdout",
     "output_type": "stream",
     "text": [
      "       Random value 1  Random value 2  Random value 3  Random value 4\n",
      "count        4.000000        4.000000        4.000000        4.000000\n",
      "mean         0.490845        0.386753        0.610362        0.594773\n",
      "std          0.354371        0.340888        0.406719        0.299320\n",
      "min          0.088493        0.184854        0.045227        0.325330\n",
      "25%          0.313631        0.193201        0.459732        0.348898\n",
      "50%          0.467694        0.233666        0.713319        0.565943\n",
      "75%          0.644907        0.427219        0.863949        0.811818\n",
      "max          0.939499        0.894827        0.969585        0.921874\n"
     ]
    }
   ],
   "source": [
    "# Task 3: Descriptive statistics of the dataframe\n",
    "descriptive_stats = df.describe()\n",
    "print(descriptive_stats)"
   ]
  },
  {
   "cell_type": "code",
   "execution_count": 20,
   "metadata": {},
   "outputs": [
    {
     "name": "stdout",
     "output_type": "stream",
     "text": [
      "Null Values:\n",
      " Random value 1    0\n",
      "Random value 2    0\n",
      "Random value 3    0\n",
      "Random value 4    0\n",
      "dtype: int64\n",
      "Data Types:\n",
      " Random value 1    float64\n",
      "Random value 2    float64\n",
      "Random value 3    float64\n",
      "Random value 4    float64\n",
      "dtype: object\n"
     ]
    }
   ],
   "source": [
    "# Task 4: Check for null values and data types\n",
    "# Check for null values\n",
    "null_values = df.isnull().sum()\n",
    "print(\"Null Values:\\n\", null_values)\n",
    "\n",
    "# Find data type of columns\n",
    "column_data_types = df.dtypes\n",
    "print(\"Data Types:\\n\", column_data_types)"
   ]
  },
  {
   "cell_type": "code",
   "execution_count": 21,
   "metadata": {},
   "outputs": [
    {
     "name": "stdout",
     "output_type": "stream",
     "text": [
      "\n",
      "Random Value 2:\n",
      " 0    0.184854\n",
      "1    0.894827\n",
      "2    0.195983\n",
      "3    0.271349\n",
      "Name: Random value 2, dtype: float64\n",
      "\n",
      "Random Value 3:\n",
      " 0    0.969585\n",
      "1    0.597900\n",
      "2    0.045227\n",
      "3    0.828738\n",
      "Name: Random value 3, dtype: float64\n",
      "\n",
      "Random Value 2 (Location method):\n",
      " 0    0.184854\n",
      "1    0.894827\n",
      "2    0.195983\n",
      "3    0.271349\n",
      "Name: Random value 2, dtype: float64\n",
      "\n",
      "Random Value 3 (Location method):\n",
      " 0    0.969585\n",
      "1    0.597900\n",
      "2    0.045227\n",
      "3    0.828738\n",
      "Name: Random value 3, dtype: float64\n",
      "\n",
      "Random Value 2 (Index location method):\n",
      " 0    0.184854\n",
      "1    0.894827\n",
      "2    0.195983\n",
      "3    0.271349\n",
      "Name: Random value 2, dtype: float64\n",
      "\n",
      "Random Value 3 (Index location method):\n",
      " 0    0.969585\n",
      "1    0.597900\n",
      "2    0.045227\n",
      "3    0.828738\n",
      "Name: Random value 3, dtype: float64\n"
     ]
    }
   ],
   "source": [
    "# Task 5: Display 'Random value 2' & 'Random value 3' columns\n",
    "random_value_2 = df['Random value 2']\n",
    "random_value_3 = df['Random value 3']\n",
    "print(\"\\nRandom Value 2:\\n\", random_value_2)\n",
    "print(\"\\nRandom Value 3:\\n\", random_value_3)\n",
    "\n",
    "# Display with location method\n",
    "random_value_2_loc = df.loc[:, 'Random value 2']\n",
    "random_value_3_loc = df.loc[:, 'Random value 3']\n",
    "print(\"\\nRandom Value 2 (Location method):\\n\", random_value_2_loc)\n",
    "print(\"\\nRandom Value 3 (Location method):\\n\", random_value_3_loc)\n",
    "\n",
    "# Display with index location method\n",
    "random_value_2_idx = df.iloc[:, 1]\n",
    "random_value_3_idx = df.iloc[:, 2]\n",
    "print(\"\\nRandom Value 2 (Index location method):\\n\", random_value_2_idx)\n",
    "print(\"\\nRandom Value 3 (Index location method):\\n\", random_value_3_idx)"
   ]
  }
 ],
 "metadata": {
  "kernelspec": {
   "display_name": "Python 3",
   "language": "python",
   "name": "python3"
  },
  "language_info": {
   "codemirror_mode": {
    "name": "ipython",
    "version": 3
   },
   "file_extension": ".py",
   "mimetype": "text/x-python",
   "name": "python",
   "nbconvert_exporter": "python",
   "pygments_lexer": "ipython3",
   "version": "3.10.6"
  },
  "orig_nbformat": 4
 },
 "nbformat": 4,
 "nbformat_minor": 2
}
