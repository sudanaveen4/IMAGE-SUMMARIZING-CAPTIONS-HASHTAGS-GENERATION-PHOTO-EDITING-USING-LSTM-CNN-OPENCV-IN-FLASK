{
 "cells": [
  {
   "cell_type": "code",
   "execution_count": 1,
   "metadata": {},
   "outputs": [],
   "source": [
    "import tensorflow as tf\n",
    "from tensorflow.keras.preprocessing.image import ImageDataGenerator\n",
    "from tensorflow.keras.layers import Convolution2D,MaxPooling2D,Flatten,Dense\n",
    "from tensorflow.keras.models import Sequential\n",
    "import cv2 as cv"
   ]
  },
  {
   "cell_type": "code",
   "execution_count": 2,
   "metadata": {},
   "outputs": [
    {
     "name": "stdout",
     "output_type": "stream",
     "text": [
      "Found 150 images belonging to 1 classes.\n",
      "Found 157 images belonging to 1 classes.\n"
     ]
    }
   ],
   "source": [
    "train_gen = ImageDataGenerator(rescale=(1./255),horizontal_flip=True,shear_range=0.2)\n",
    "test_gen = ImageDataGenerator(rescale=(1./255))\n",
    "train = train_gen.flow_from_directory('Training',target_size=(120, 120),class_mode='categorical',batch_size=8)\n",
    "test = test_gen.flow_from_directory('Testing',target_size=(120, 120),class_mode='categorical',batch_size=8)"
   ]
  },
  {
   "cell_type": "code",
   "execution_count": 3,
   "metadata": {},
   "outputs": [
    {
     "name": "stdout",
     "output_type": "stream",
     "text": [
      "{'train_data': 0}\n",
      "{'test_data': 0}\n"
     ]
    }
   ],
   "source": [
    "print(train.class_indices)\n",
    "print(test.class_indices)\n"
   ]
  },
  {
   "cell_type": "code",
   "execution_count": 4,
   "metadata": {},
   "outputs": [],
   "source": [
    "# CNN\n",
    "from tensorflow.keras.layers import Convolution2D,MaxPooling2D,Flatten,Dense\n",
    "from tensorflow.keras.models import Sequential\n"
   ]
  },
  {
   "cell_type": "code",
   "execution_count": 5,
   "metadata": {},
   "outputs": [],
   "source": [
    "model = Sequential([\n",
    "Convolution2D(20,(3,3),activation = 'relu',input_shape=(120,120,3)),\n",
    "MaxPooling2D(2,2),\n",
    "Flatten(),\n",
    "Dense(45,activation = 'relu'),\n",
    "Dense(16,activation = 'softmax')\n",
    "])"
   ]
  },
  {
   "cell_type": "code",
   "execution_count": 7,
   "metadata": {},
   "outputs": [
    {
     "name": "stdout",
     "output_type": "stream",
     "text": [
      "Epoch 1/20\n",
      "19/19 [==============================] - 29s 2s/step - loss: 158771.9375 - accuracy: 0.2000 - val_loss: 180296.4375 - val_accuracy: 0.0000e+00\n",
      "Epoch 2/20\n",
      "19/19 [==============================] - 28s 2s/step - loss: 193691.2812 - accuracy: 0.2133 - val_loss: 218725.5469 - val_accuracy: 0.0000e+00\n",
      "Epoch 3/20\n",
      "19/19 [==============================] - 29s 2s/step - loss: 232691.3281 - accuracy: 0.1133 - val_loss: 259685.0469 - val_accuracy: 1.0000\n",
      "Epoch 4/20\n",
      "19/19 [==============================] - 28s 2s/step - loss: 273823.3125 - accuracy: 0.2667 - val_loss: 303700.6250 - val_accuracy: 0.0000e+00\n",
      "Epoch 5/20\n",
      "19/19 [==============================] - 29s 2s/step - loss: 318152.4375 - accuracy: 0.1600 - val_loss: 353269.2500 - val_accuracy: 1.0000\n",
      "Epoch 6/20\n",
      "19/19 [==============================] - 30s 2s/step - loss: 369438.0625 - accuracy: 0.1600 - val_loss: 401294.2500 - val_accuracy: 0.0000e+00\n",
      "Epoch 7/20\n",
      "19/19 [==============================] - 29s 2s/step - loss: 414707.5000 - accuracy: 0.1600 - val_loss: 450435.7188 - val_accuracy: 0.0000e+00\n",
      "Epoch 8/20\n",
      "19/19 [==============================] - 31s 2s/step - loss: 466218.8750 - accuracy: 0.1600 - val_loss: 507487.5938 - val_accuracy: 1.0000\n",
      "Epoch 9/20\n",
      "19/19 [==============================] - 31s 2s/step - loss: 517815.7812 - accuracy: 0.1600 - val_loss: 549954.5625 - val_accuracy: 0.0000e+00\n",
      "Epoch 10/20\n",
      "19/19 [==============================] - 30s 2s/step - loss: 566298.1250 - accuracy: 0.0867 - val_loss: 612333.1250 - val_accuracy: 1.0000\n",
      "Epoch 11/20\n",
      "19/19 [==============================] - 28s 2s/step - loss: 613631.8750 - accuracy: 0.1600 - val_loss: 652750.2500 - val_accuracy: 0.0000e+00\n",
      "Epoch 12/20\n",
      "19/19 [==============================] - 28s 2s/step - loss: 667611.7500 - accuracy: 0.1600 - val_loss: 693315.7500 - val_accuracy: 0.0000e+00\n",
      "Epoch 13/20\n",
      "19/19 [==============================] - 28s 2s/step - loss: 691778.5625 - accuracy: 0.1600 - val_loss: 721730.1875 - val_accuracy: 0.0000e+00\n",
      "Epoch 14/20\n",
      "19/19 [==============================] - 28s 2s/step - loss: 710530.5000 - accuracy: 0.1067 - val_loss: 737805.7500 - val_accuracy: 0.0000e+00\n",
      "Epoch 15/20\n",
      "19/19 [==============================] - 28s 2s/step - loss: 711687.0000 - accuracy: 0.1600 - val_loss: 742341.2500 - val_accuracy: 0.0000e+00\n",
      "Epoch 16/20\n",
      "19/19 [==============================] - 27s 1s/step - loss: 718003.8125 - accuracy: 0.1067 - val_loss: 736828.3750 - val_accuracy: 0.0000e+00\n",
      "Epoch 17/20\n",
      "19/19 [==============================] - 28s 1s/step - loss: 732293.2500 - accuracy: 0.0533 - val_loss: 745765.9375 - val_accuracy: 0.0000e+00\n",
      "Epoch 18/20\n",
      "19/19 [==============================] - 28s 2s/step - loss: 731833.1875 - accuracy: 0.1600 - val_loss: 735375.5625 - val_accuracy: 0.0000e+00\n",
      "Epoch 19/20\n",
      "19/19 [==============================] - 29s 2s/step - loss: 698896.9375 - accuracy: 0.1067 - val_loss: 705372.6250 - val_accuracy: 0.0000e+00\n",
      "Epoch 20/20\n",
      "19/19 [==============================] - 28s 2s/step - loss: 685297.6250 - accuracy: 0.1067 - val_loss: 713685.1250 - val_accuracy: 0.0000e+00\n"
     ]
    }
   ],
   "source": [
    "model.compile(optimizer='adam',loss='categorical_crossentropy',metrics=['accuracy'])\n",
    "model_fit = model.fit(train,epochs =20,validation_data = test ,batch_size=5)\n"
   ]
  },
  {
   "cell_type": "code",
   "execution_count": 8,
   "metadata": {},
   "outputs": [
    {
     "name": "stdout",
     "output_type": "stream",
     "text": [
      "['rebimg', 'wcrsrt', 'jglowl', 'ibicrw', 'mgprob', 'hsparo', 'indvul', 'himgri', 'himbul', 'gretit', 'hilpig', 'cbrtsh', 'cmnmyn', 'bonegl', 'brhkyt', 'blasti']\n"
     ]
    }
   ],
   "source": [
    "model.save('birds.h5')\n",
    "model_new = tf.keras.models.load_model('birds.h5')\n",
    "import numpy as np\n",
    "from tensorflow.keras.preprocessing import image\n",
    "output = ['rebimg','wcrsrt','jglowl','ibicrw','mgprob','hsparo',\n",
    "'indvul','himgri','himbul','gretit','hilpig','cbrtsh',\n",
    "'cmnmyn','bonegl','brhkyt','blasti']\n",
    "print(output)\n"
   ]
  },
  {
   "cell_type": "code",
   "execution_count": 9,
   "metadata": {},
   "outputs": [
    {
     "name": "stdout",
     "output_type": "stream",
     "text": [
      "1/1 [==============================] - 0s 81ms/step\n",
      "1\n",
      "wcrsrt\n"
     ]
    }
   ],
   "source": [
    "img1 = image.load_img(\"Training/train_data/mgprob/100_5590.JPG\",target_size=(120,120))\n",
    "img1 = image.img_to_array(img1)\n",
    "img1 = np.expand_dims(img1,axis=0)\n",
    "pred = np.argmax(model.predict(img1))\n",
    "print(pred)\n",
    "print(output[pred])"
   ]
  },
  {
   "cell_type": "code",
   "execution_count": 14,
   "metadata": {},
   "outputs": [
    {
     "name": "stdout",
     "output_type": "stream",
     "text": [
      "1/1 [==============================] - 0s 21ms/step\n",
      "1\n",
      "wcrsrt\n"
     ]
    }
   ],
   "source": [
    "img1 = image.load_img(\"Training/train_data/cmnmyn/100_5763.JPG\",target_size=(120,120))\n",
    "img1 = image.img_to_array(img1)\n",
    "img1 = np.expand_dims(img1,axis=0)\n",
    "pred = np.argmax(model.predict(img1))\n",
    "print(pred)\n",
    "print(output[pred])"
   ]
  },
  {
   "cell_type": "code",
   "execution_count": 11,
   "metadata": {},
   "outputs": [
    {
     "name": "stdout",
     "output_type": "stream",
     "text": [
      "1/1 [==============================] - 0s 19ms/step\n",
      "1\n",
      "wcrsrt\n"
     ]
    }
   ],
   "source": [
    "img1 = image.load_img(\"Training/train_data/himbul/100_5029.JPG\",target_size=(120,120))\n",
    "img1 = image.img_to_array(img1)\n",
    "img1 = np.expand_dims(img1,axis=0)\n",
    "pred = np.argmax(model.predict(img1))\n",
    "print(pred)\n",
    "print(output[pred])"
   ]
  }
 ],
 "metadata": {
  "kernelspec": {
   "display_name": "Python 3",
   "language": "python",
   "name": "python3"
  },
  "language_info": {
   "codemirror_mode": {
    "name": "ipython",
    "version": 3
   },
   "file_extension": ".py",
   "mimetype": "text/x-python",
   "name": "python",
   "nbconvert_exporter": "python",
   "pygments_lexer": "ipython3",
   "version": "3.10.6"
  },
  "orig_nbformat": 4
 },
 "nbformat": 4,
 "nbformat_minor": 2
}
